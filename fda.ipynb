{
 "cells": [
  {
   "cell_type": "markdown",
   "id": "5a54b86e-24e1-4877-a8dd-3aa2eef8439e",
   "metadata": {},
   "source": [
    "# Fundamentals of Data Analysis\n",
    "## Assessment Notebook"
   ]
  },
  {
   "cell_type": "code",
   "execution_count": null,
   "id": "4c41372e-99e3-4e7e-99a6-ce807c831428",
   "metadata": {},
   "outputs": [],
   "source": []
  }
 ],
 "metadata": {
  "kernelspec": {
   "display_name": "Python 3 (ipykernel)",
   "language": "python",
   "name": "python3"
  },
  "language_info": {
   "codemirror_mode": {
    "name": "ipython",
    "version": 3
   },
   "file_extension": ".py",
   "mimetype": "text/x-python",
   "name": "python",
   "nbconvert_exporter": "python",
   "pygments_lexer": "ipython3",
   "version": "3.9.7"
  }
 },
 "nbformat": 4,
 "nbformat_minor": 5
}
