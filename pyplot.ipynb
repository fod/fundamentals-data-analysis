{
 "cells": [
  {
   "cell_type": "markdown",
   "source": [
    "# matplotlib.pyplot"
   ],
   "metadata": {}
  },
  {
   "cell_type": "markdown",
   "source": [
    "## Overview\n",
    "\n",
    "### Introduction: matplotlib and pyplot\n",
    "\n",
    "Matplotlib[1] is a popular python package for data visualisation. Developed since 2003 [R] as a way of making plots in python using a matlab like syntax. It is currently maintained and actively developed by a large community of open source developers.\n",
    "\n",
    "Matplotlib features an object oriented interface at the base of which is the `Figure` class. A `Figure` can contain any number of subplots which are reified as objects of the `Axes` class, which contains many of the methods and fields that define the plot. \n",
    "\n",
    "Matplotlib.pyplot is a procedural wrapper around Matplotlib's object-oriented interface. The Matplotlib documentation recommends that, with the exception of a few functions that simplify intitialisation and saving of figures (`pyplot.figure`, `pyplot.subplot`, `pyplot.subplots`, and `pyplot.savefig`), the object oriented interface be used when programming, and the stateful pyplot interface be reserved for interactive work [R]."
   ],
   "metadata": {}
  },
  {
   "cell_type": "markdown",
   "source": [
    "### Importing matplotlib.pyplot\n",
    "\n",
    "The canonical alias for `matplotlib.pyplot` is `plt` and it is therefore imported by convention as follows:\n"
   ],
   "metadata": {}
  },
  {
   "cell_type": "code",
   "execution_count": 5,
   "source": [
    "# import matplotlib.pyplot and assign alias 'plt'\n",
    "import matplotlib.pyplot as plt"
   ],
   "outputs": [],
   "metadata": {}
  },
  {
   "cell_type": "markdown",
   "source": [
    "### Quick plots using the procedural interface"
   ],
   "metadata": {}
  },
  {
   "cell_type": "markdown",
   "source": [
    "### Using the OO interface for greater flexibility  "
   ],
   "metadata": {}
  },
  {
   "cell_type": "markdown",
   "source": [
    "## matplotlib.pyplot example plots\n"
   ],
   "metadata": {}
  },
  {
   "cell_type": "code",
   "execution_count": 3,
   "source": [
    "plt.Axes."
   ],
   "outputs": [
    {
     "output_type": "stream",
     "name": "stdout",
     "text": [
      "Object `plt.Axes.AxesSubplot` not found.\n"
     ]
    }
   ],
   "metadata": {}
  },
  {
   "cell_type": "code",
   "execution_count": null,
   "source": [],
   "outputs": [],
   "metadata": {}
  },
  {
   "cell_type": "markdown",
   "source": [
    "### 1. Scatterplot of geographical data\n",
    "\n",
    "Reference: scikit learn book"
   ],
   "metadata": {}
  },
  {
   "cell_type": "code",
   "execution_count": 2,
   "source": [
    "# imports\n",
    "import pandas as pd\n",
    "import matplotlib.pyplot as plt\n",
    "import numpy as np"
   ],
   "outputs": [],
   "metadata": {}
  },
  {
   "cell_type": "code",
   "execution_count": 3,
   "source": [
    "# Read ED centroid data into pandas dataframe\n",
    "eds = pd.read_csv('data/ed_centroids.csv')\n",
    "eds.head()"
   ],
   "outputs": [
    {
     "output_type": "execute_result",
     "data": {
      "text/html": [
       "<div>\n",
       "<style scoped>\n",
       "    .dataframe tbody tr th:only-of-type {\n",
       "        vertical-align: middle;\n",
       "    }\n",
       "\n",
       "    .dataframe tbody tr th {\n",
       "        vertical-align: top;\n",
       "    }\n",
       "\n",
       "    .dataframe thead th {\n",
       "        text-align: right;\n",
       "    }\n",
       "</style>\n",
       "<table border=\"1\" class=\"dataframe\">\n",
       "  <thead>\n",
       "    <tr style=\"text-align: right;\">\n",
       "      <th></th>\n",
       "      <th>X</th>\n",
       "      <th>Y</th>\n",
       "      <th>NUTS1</th>\n",
       "      <th>NUTS1NAME</th>\n",
       "      <th>NUTS2</th>\n",
       "      <th>NUTS2NAME</th>\n",
       "      <th>NUTS3</th>\n",
       "      <th>NUTS3NAME</th>\n",
       "      <th>COUNTY</th>\n",
       "      <th>COUNTYNAME</th>\n",
       "      <th>CSOED</th>\n",
       "      <th>OSIED</th>\n",
       "      <th>EDNAME</th>\n",
       "      <th>LAND_AREA</th>\n",
       "      <th>TOTAL_AREA</th>\n",
       "    </tr>\n",
       "  </thead>\n",
       "  <tbody>\n",
       "    <tr>\n",
       "      <th>0</th>\n",
       "      <td>236368.456056</td>\n",
       "      <td>286670.682399</td>\n",
       "      <td>IE0</td>\n",
       "      <td>Ireland</td>\n",
       "      <td>IE01</td>\n",
       "      <td>Border,Midland and Western</td>\n",
       "      <td>IE011</td>\n",
       "      <td>Border</td>\n",
       "      <td>32</td>\n",
       "      <td>Cavan County</td>\n",
       "      <td>32090</td>\n",
       "      <td>027053</td>\n",
       "      <td>Kilcogy</td>\n",
       "      <td>17.793398</td>\n",
       "      <td>17.838415</td>\n",
       "    </tr>\n",
       "    <tr>\n",
       "      <th>1</th>\n",
       "      <td>296984.205766</td>\n",
       "      <td>180513.893740</td>\n",
       "      <td>IE0</td>\n",
       "      <td>Ireland</td>\n",
       "      <td>IE02</td>\n",
       "      <td>Southern and Eastern</td>\n",
       "      <td>IE024</td>\n",
       "      <td>South-East (IE)</td>\n",
       "      <td>1</td>\n",
       "      <td>Carlow County</td>\n",
       "      <td>01004</td>\n",
       "      <td>017022</td>\n",
       "      <td>Hacketstown</td>\n",
       "      <td>22.068904</td>\n",
       "      <td>22.068904</td>\n",
       "    </tr>\n",
       "    <tr>\n",
       "      <th>2</th>\n",
       "      <td>292582.032469</td>\n",
       "      <td>178524.343479</td>\n",
       "      <td>IE0</td>\n",
       "      <td>Ireland</td>\n",
       "      <td>IE02</td>\n",
       "      <td>Southern and Eastern</td>\n",
       "      <td>IE024</td>\n",
       "      <td>South-East (IE)</td>\n",
       "      <td>1</td>\n",
       "      <td>Carlow County</td>\n",
       "      <td>01005</td>\n",
       "      <td>017023</td>\n",
       "      <td>Haroldstown</td>\n",
       "      <td>11.543112</td>\n",
       "      <td>11.543112</td>\n",
       "    </tr>\n",
       "    <tr>\n",
       "      <th>3</th>\n",
       "      <td>284014.641367</td>\n",
       "      <td>180190.200539</td>\n",
       "      <td>IE0</td>\n",
       "      <td>Ireland</td>\n",
       "      <td>IE02</td>\n",
       "      <td>Southern and Eastern</td>\n",
       "      <td>IE024</td>\n",
       "      <td>South-East (IE)</td>\n",
       "      <td>1</td>\n",
       "      <td>Carlow County</td>\n",
       "      <td>01006</td>\n",
       "      <td>017029</td>\n",
       "      <td>Kineagh</td>\n",
       "      <td>18.033035</td>\n",
       "      <td>18.033035</td>\n",
       "    </tr>\n",
       "    <tr>\n",
       "      <th>4</th>\n",
       "      <td>286425.977882</td>\n",
       "      <td>183194.215360</td>\n",
       "      <td>IE0</td>\n",
       "      <td>Ireland</td>\n",
       "      <td>IE02</td>\n",
       "      <td>Southern and Eastern</td>\n",
       "      <td>IE024</td>\n",
       "      <td>South-East (IE)</td>\n",
       "      <td>1</td>\n",
       "      <td>Carlow County</td>\n",
       "      <td>01007</td>\n",
       "      <td>017038</td>\n",
       "      <td>Rahill</td>\n",
       "      <td>16.431779</td>\n",
       "      <td>16.431779</td>\n",
       "    </tr>\n",
       "  </tbody>\n",
       "</table>\n",
       "</div>"
      ],
      "text/plain": [
       "               X              Y NUTS1 NUTS1NAME NUTS2  \\\n",
       "0  236368.456056  286670.682399   IE0   Ireland  IE01   \n",
       "1  296984.205766  180513.893740   IE0   Ireland  IE02   \n",
       "2  292582.032469  178524.343479   IE0   Ireland  IE02   \n",
       "3  284014.641367  180190.200539   IE0   Ireland  IE02   \n",
       "4  286425.977882  183194.215360   IE0   Ireland  IE02   \n",
       "\n",
       "                    NUTS2NAME  NUTS3        NUTS3NAME  COUNTY     COUNTYNAME  \\\n",
       "0  Border,Midland and Western  IE011           Border      32   Cavan County   \n",
       "1        Southern and Eastern  IE024  South-East (IE)       1  Carlow County   \n",
       "2        Southern and Eastern  IE024  South-East (IE)       1  Carlow County   \n",
       "3        Southern and Eastern  IE024  South-East (IE)       1  Carlow County   \n",
       "4        Southern and Eastern  IE024  South-East (IE)       1  Carlow County   \n",
       "\n",
       "   CSOED   OSIED       EDNAME  LAND_AREA  TOTAL_AREA  \n",
       "0  32090  027053      Kilcogy  17.793398   17.838415  \n",
       "1  01004  017022  Hacketstown  22.068904   22.068904  \n",
       "2  01005  017023  Haroldstown  11.543112   11.543112  \n",
       "3  01006  017029      Kineagh  18.033035   18.033035  \n",
       "4  01007  017038       Rahill  16.431779   16.431779  "
      ]
     },
     "metadata": {},
     "execution_count": 3
    }
   ],
   "metadata": {}
  },
  {
   "cell_type": "code",
   "execution_count": 4,
   "source": [
    "# Rename ED ID column to make it easier to join with other data\n",
    "eds['ID'] = eds['CSOED']\n",
    "# Set the dataframe index to be the ED ID column\n",
    "eds.set_index('ID', inplace=True)\n",
    "# Cull unnecessary columns\n",
    "eds = eds[['X', 'Y', 'LAND_AREA']]\n",
    "# Check the data\n",
    "eds.head()"
   ],
   "outputs": [
    {
     "output_type": "execute_result",
     "data": {
      "text/html": [
       "<div>\n",
       "<style scoped>\n",
       "    .dataframe tbody tr th:only-of-type {\n",
       "        vertical-align: middle;\n",
       "    }\n",
       "\n",
       "    .dataframe tbody tr th {\n",
       "        vertical-align: top;\n",
       "    }\n",
       "\n",
       "    .dataframe thead th {\n",
       "        text-align: right;\n",
       "    }\n",
       "</style>\n",
       "<table border=\"1\" class=\"dataframe\">\n",
       "  <thead>\n",
       "    <tr style=\"text-align: right;\">\n",
       "      <th></th>\n",
       "      <th>X</th>\n",
       "      <th>Y</th>\n",
       "      <th>LAND_AREA</th>\n",
       "    </tr>\n",
       "    <tr>\n",
       "      <th>ID</th>\n",
       "      <th></th>\n",
       "      <th></th>\n",
       "      <th></th>\n",
       "    </tr>\n",
       "  </thead>\n",
       "  <tbody>\n",
       "    <tr>\n",
       "      <th>32090</th>\n",
       "      <td>236368.456056</td>\n",
       "      <td>286670.682399</td>\n",
       "      <td>17.793398</td>\n",
       "    </tr>\n",
       "    <tr>\n",
       "      <th>01004</th>\n",
       "      <td>296984.205766</td>\n",
       "      <td>180513.893740</td>\n",
       "      <td>22.068904</td>\n",
       "    </tr>\n",
       "    <tr>\n",
       "      <th>01005</th>\n",
       "      <td>292582.032469</td>\n",
       "      <td>178524.343479</td>\n",
       "      <td>11.543112</td>\n",
       "    </tr>\n",
       "    <tr>\n",
       "      <th>01006</th>\n",
       "      <td>284014.641367</td>\n",
       "      <td>180190.200539</td>\n",
       "      <td>18.033035</td>\n",
       "    </tr>\n",
       "    <tr>\n",
       "      <th>01007</th>\n",
       "      <td>286425.977882</td>\n",
       "      <td>183194.215360</td>\n",
       "      <td>16.431779</td>\n",
       "    </tr>\n",
       "  </tbody>\n",
       "</table>\n",
       "</div>"
      ],
      "text/plain": [
       "                   X              Y  LAND_AREA\n",
       "ID                                            \n",
       "32090  236368.456056  286670.682399  17.793398\n",
       "01004  296984.205766  180513.893740  22.068904\n",
       "01005  292582.032469  178524.343479  11.543112\n",
       "01006  284014.641367  180190.200539  18.033035\n",
       "01007  286425.977882  183194.215360  16.431779"
      ]
     },
     "metadata": {},
     "execution_count": 4
    }
   ],
   "metadata": {}
  },
  {
   "cell_type": "markdown",
   "source": [
    "Get data to join with ED centroids for scatterplot. Small Area Population Statistics from CSO website [R]"
   ],
   "metadata": {}
  },
  {
   "cell_type": "code",
   "execution_count": null,
   "source": [
    "# 2016 SAPS\n",
    "saps2016_url = 'https://www.cso.ie/en/media/csoie/census/census2016/census2016boundaryfiles/SAPS2016_ED3409.csv'\n",
    "\n",
    "# 2016 Key\n",
    "# https://www.cso.ie/en/media/csoie/census/census2016/census2016boundaryfiles/SAPS_2016_Glossary.xlsx\n",
    "\n",
    "# 2011 SAPS\n",
    "saps2011_url = 'https://www.cso.ie/en/media/csoie/census/documents/saps2011files/AllThemesTablesED.csv'\n",
    "\n",
    "# 2011 Key\n",
    "# https://www.cso.ie/en/media/csoie/census/documents/saps2011files/Theme,breakdown.xlsx"
   ],
   "outputs": [],
   "metadata": {}
  },
  {
   "cell_type": "markdown",
   "source": [
    "2016 SAPS csv file has an unusual encoding and produces errors when importing using pandas.read_csv(). This is avoided by specifying the encoding (cp1252) [R]. For the purposes of the present demonstration the statistic of interest is total population per ED. The correct column ('T1_1AGETT') is identified using the key linked to above [R]. The file also imports numeric columns as dtype('object') and inserts commas as thousand separators. This is corrected using `pandas.to_numeric` and `pandas.Series.str.replace()` [R]. The correctly formatted data is stored in a new column `Pop2016`."
   ],
   "metadata": {}
  },
  {
   "cell_type": "code",
   "execution_count": null,
   "source": [
    "# Download 2016 SAPS data at ED level and extract ID column and Total Population column\n",
    "saps2016 = pd.read_csv(saps2016_url, encoding='cp1252', usecols=['GEOGID', 'T1_1AGETT'])\n",
    "# Remove commas and cast Total Population column to numeric dtype. \n",
    "saps2016['Pop2016'] = pd.to_numeric(saps2016['T1_1AGETT'].str.replace(',', ''))"
   ],
   "outputs": [],
   "metadata": {}
  },
  {
   "cell_type": "markdown",
   "source": [
    "### 2. Scatterplot matrix"
   ],
   "metadata": {}
  },
  {
   "cell_type": "markdown",
   "source": [
    "### 3. Bubble plot using geographic data"
   ],
   "metadata": {}
  },
  {
   "cell_type": "markdown",
   "source": [
    "***\n",
    "\n",
    "## References\n",
    "\n",
    "[1] Matplotlib Development Team. (2021). Matplotlib: Visualization with Python. [online] Available from: <https://matplotlib.org/> Accessed: 28th September, 2021\n",
    "\n",
    "[3] Matplotlib module docstring"
   ],
   "metadata": {}
  },
  {
   "cell_type": "markdown",
   "source": [],
   "metadata": {}
  }
 ],
 "metadata": {
  "kernelspec": {
   "name": "python3",
   "display_name": "Python 3.9.7 64-bit ('.venv': venv)"
  },
  "language_info": {
   "codemirror_mode": {
    "name": "ipython",
    "version": 3
   },
   "file_extension": ".py",
   "mimetype": "text/x-python",
   "name": "python",
   "nbconvert_exporter": "python",
   "pygments_lexer": "ipython3",
   "version": "3.9.7"
  },
  "interpreter": {
   "hash": "8b4af24005e35028eb041b10565b8cf079418d1c3f31abe2920c9010e87b8a26"
  }
 },
 "nbformat": 4,
 "nbformat_minor": 5
}