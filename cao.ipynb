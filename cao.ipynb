{
 "cells": [
  {
   "cell_type": "markdown",
   "source": [
    "# CAO Points"
   ],
   "metadata": {}
  },
  {
   "cell_type": "markdown",
   "source": [
    "## Introduction\n",
    "\n",
    "The CAO points data, available from the [CAO website](http://www.cao.ie), is published in a different format for each of the years 2019, 2020, and 2021. Each year's data, therefore, requires a different approach to acquisition, conversion to pandas dataframe, and cleaning. The 2019 data is published in two pdf files; one for level 8 courses, and one for levels 6 and 7. The 2020 data is published as an Excel spreadsheet, and the 2021 data as preformatted text in a HTML webpage.\n",
    "\n",
    "The relevant columns are `Course Code`, `Course Name`, `Institution Name`, `EOS`, which is the number of points achieved by the last applicant to be offered a place on the course, and `Mid`, which is the mid point between the number of points held by the highest point score and the lowest point score of the applicants offered a place on the course [1]."
   ],
   "metadata": {}
  },
  {
   "cell_type": "markdown",
   "source": [
    "## Acquiring the data"
   ],
   "metadata": {}
  },
  {
   "cell_type": "code",
   "execution_count": 2,
   "source": [
    "# imports\n",
    "import pandas as pd\n",
    "import matplotlib.pyplot as plt\n",
    "from tabula import read_pdf\n",
    "import requests\n",
    "from requests.compat import urljoin\n"
   ],
   "outputs": [],
   "metadata": {}
  },
  {
   "cell_type": "markdown",
   "source": [
    "### 2019 Points Data"
   ],
   "metadata": {}
  },
  {
   "cell_type": "code",
   "execution_count": null,
   "source": [
    "base_url = 'http://www2.cao.ie/points/'\n",
    "\n",
    "# 2019 data is provided in PDF format\n",
    "cao_2019_urls  = ('lvl8_19.pdf', 'lvl76_19.pdf')\n",
    "\n",
    "# for each of the two points pdfs construct url, \n",
    "# fetch pdf, and write to working directory\n",
    "for url in (cao_2019_urls):\n",
    "    response = requests.get(urljoin(base_url, url))\n",
    "    with open(url, 'wb') as f:\n",
    "        f.write(response.content)"
   ],
   "outputs": [],
   "metadata": {}
  },
  {
   "cell_type": "markdown",
   "source": [
    "#### Level 8"
   ],
   "metadata": {}
  },
  {
   "cell_type": "code",
   "execution_count": null,
   "source": [
    "# read the entire pdf, extracting tables into a single dataframe\n",
    "df8 = read_pdf(\"lvl8_19.pdf\", pages=\"all\", multiple_tables=False)[0]\n",
    "df8.head(10)"
   ],
   "outputs": [],
   "metadata": {}
  },
  {
   "cell_type": "code",
   "execution_count": null,
   "source": [
    "# Create a new column in the dataframe for institution name \n",
    "# identify institution name rows as those containing null course codes\n",
    "# and add those institution names to the new institution column\n",
    "df8['Institution'] = df8[df8['Course Code'].isnull()]['INSTITUTION and COURSE']\n",
    "df8.rename(columns={'INSTITUTION and COURSE':'Course Name'}, inplace=True)\n",
    "df8.head()"
   ],
   "outputs": [],
   "metadata": {}
  },
  {
   "cell_type": "code",
   "execution_count": null,
   "source": [
    "# Fill empty fields in the institution column with the most recent non-na field\n",
    "df8['Institution'] = df8['Institution'].fillna(method='ffill')\n",
    "df8.head()"
   ],
   "outputs": [],
   "metadata": {}
  },
  {
   "cell_type": "code",
   "execution_count": null,
   "source": [
    "# Finally, remove rows containing only institution names\n",
    "df8 = df8[df8['Course Code'].notna()]\n",
    "\n",
    "# Set some display options\n",
    "# pd.set_option(\"display.max_rows\", None)\n",
    "# pd.set_option(\"display.max_colwidth\", None)\n",
    "\n",
    "df8"
   ],
   "outputs": [],
   "metadata": {}
  },
  {
   "cell_type": "code",
   "execution_count": null,
   "source": [
    "# Examine EOS values which contain non-numeric characters\n",
    "df8[df8['EOS'].str.contains(r'[^0-9#*]') == True]"
   ],
   "outputs": [],
   "metadata": {}
  },
  {
   "cell_type": "code",
   "execution_count": null,
   "source": [
    "# Examine Mid values which contain non-numeric characters\n",
    "df8[df8['Mid'].str.contains(r'[^0-9]') == True]"
   ],
   "outputs": [],
   "metadata": {}
  },
  {
   "cell_type": "code",
   "execution_count": null,
   "source": [
    "# Create new column indicating whether the course requires a test, interview or portfolio\n",
    "# This is indicated by a '#' in the EOS column\n",
    "df8['Test'] = df8['EOS'].str.contains('#', na=False)\n",
    "\n",
    "# Create a column indicating courses where not all applicants at EOS point score were offered a place\n",
    "# This is indicated by a '*' in the EOS column\n",
    "df8['Not All'] = df8['EOS'].str.contains('\\*', na=False)\n",
    "\n",
    "# Create a column indicating courses where a matric is required\n",
    "# This is indicated by the string '+matric' in the EOS column.\n",
    "# However, the tabula table parsing has interpreted the r in matric as a cell boundary so only 'mat' \n",
    "# remains in the EOS column and 'ic' appears in the Mid column. The 'ic' will be dealt with next \n",
    "df8['Matric'] = df8['EOS'].str.contains('mat', na=False)\n"
   ],
   "outputs": [],
   "metadata": {}
  },
  {
   "cell_type": "code",
   "execution_count": null,
   "source": [
    "# Remove Non-digits from EOS and Mid columns and convert columns to numeric values, with NaNs where values are missing (errors = 'coerce')\n",
    "# (Because NaN is a float, the whole columns must be floats)\n",
    "df8['EOS'] = pd.to_numeric(df8['EOS'].str.replace(r'[^0-9]+', '', regex=True), errors='coerce')\n",
    "df8['Mid'] = pd.to_numeric(df8['Mid'].str.replace(r'[^0-9]+', '', ), errors='coerce')"
   ],
   "outputs": [],
   "metadata": {}
  },
  {
   "cell_type": "code",
   "execution_count": null,
   "source": [
    "# Repair LM124 Course Name\n",
    "df8.loc[df8['Course Code']=='LM124', 'Course Name'] += 'ce)'"
   ],
   "outputs": [],
   "metadata": {}
  },
  {
   "cell_type": "markdown",
   "source": [
    "#### Level 6 and 7"
   ],
   "metadata": {}
  },
  {
   "cell_type": "code",
   "execution_count": 17,
   "source": [
    "# read the entire pdf, extracting tables into a single dataframe\n",
    "df67 = read_pdf(\"lvl76_19.pdf\", pages=\"all\", multiple_tables=False)[0]\n",
    "df67.head(10)"
   ],
   "outputs": [
    {
     "output_type": "execute_result",
     "data": {
      "text/html": [
       "<div>\n",
       "<style scoped>\n",
       "    .dataframe tbody tr th:only-of-type {\n",
       "        vertical-align: middle;\n",
       "    }\n",
       "\n",
       "    .dataframe tbody tr th {\n",
       "        vertical-align: top;\n",
       "    }\n",
       "\n",
       "    .dataframe thead th {\n",
       "        text-align: right;\n",
       "    }\n",
       "</style>\n",
       "<table border=\"1\" class=\"dataframe\">\n",
       "  <thead>\n",
       "    <tr style=\"text-align: right;\">\n",
       "      <th></th>\n",
       "      <th>Unnamed: 0</th>\n",
       "      <th>ADMISSION DATA 2019</th>\n",
       "      <th>Unnamed: 2</th>\n",
       "      <th>Unnamed: 3</th>\n",
       "    </tr>\n",
       "  </thead>\n",
       "  <tbody>\n",
       "    <tr>\n",
       "      <th>0</th>\n",
       "      <td>NaN</td>\n",
       "      <td>End of Season</td>\n",
       "      <td>NaN</td>\n",
       "      <td>NaN</td>\n",
       "    </tr>\n",
       "    <tr>\n",
       "      <th>1</th>\n",
       "      <td>NaN</td>\n",
       "      <td>Level 6, 7</td>\n",
       "      <td>NaN</td>\n",
       "      <td>NaN</td>\n",
       "    </tr>\n",
       "    <tr>\n",
       "      <th>2</th>\n",
       "      <td>NaN</td>\n",
       "      <td>The details  given are for general information...</td>\n",
       "      <td>NaN</td>\n",
       "      <td>NaN</td>\n",
       "    </tr>\n",
       "    <tr>\n",
       "      <th>3</th>\n",
       "      <td>*</td>\n",
       "      <td>Not all on this points score were offered places</td>\n",
       "      <td>NaN</td>\n",
       "      <td>NaN</td>\n",
       "    </tr>\n",
       "    <tr>\n",
       "      <th>4</th>\n",
       "      <td>#</td>\n",
       "      <td>Test / Interview / Portfolio / Audition</td>\n",
       "      <td>NaN</td>\n",
       "      <td>NaN</td>\n",
       "    </tr>\n",
       "    <tr>\n",
       "      <th>5</th>\n",
       "      <td>AQA</td>\n",
       "      <td>All qualified applicants</td>\n",
       "      <td>NaN</td>\n",
       "      <td>NaN</td>\n",
       "    </tr>\n",
       "    <tr>\n",
       "      <th>6</th>\n",
       "      <td>NaN</td>\n",
       "      <td>NaN</td>\n",
       "      <td>NaN</td>\n",
       "      <td>NaN</td>\n",
       "    </tr>\n",
       "    <tr>\n",
       "      <th>7</th>\n",
       "      <td>Course Code</td>\n",
       "      <td>INSTITUTION and COURSE</td>\n",
       "      <td>EOS</td>\n",
       "      <td>Mid</td>\n",
       "    </tr>\n",
       "    <tr>\n",
       "      <th>8</th>\n",
       "      <td>NaN</td>\n",
       "      <td>Athlone Institute of Technology</td>\n",
       "      <td>NaN</td>\n",
       "      <td>NaN</td>\n",
       "    </tr>\n",
       "    <tr>\n",
       "      <th>9</th>\n",
       "      <td>AL600</td>\n",
       "      <td>Software Design</td>\n",
       "      <td>205</td>\n",
       "      <td>306</td>\n",
       "    </tr>\n",
       "  </tbody>\n",
       "</table>\n",
       "</div>"
      ],
      "text/plain": [
       "    Unnamed: 0                                ADMISSION DATA 2019 Unnamed: 2  \\\n",
       "0          NaN                                      End of Season        NaN   \n",
       "1          NaN                                         Level 6, 7        NaN   \n",
       "2          NaN  The details  given are for general information...        NaN   \n",
       "3            *   Not all on this points score were offered places        NaN   \n",
       "4            #            Test / Interview / Portfolio / Audition        NaN   \n",
       "5          AQA                           All qualified applicants        NaN   \n",
       "6          NaN                                                NaN        NaN   \n",
       "7  Course Code                             INSTITUTION and COURSE        EOS   \n",
       "8          NaN                    Athlone Institute of Technology        NaN   \n",
       "9        AL600                                    Software Design        205   \n",
       "\n",
       "  Unnamed: 3  \n",
       "0        NaN  \n",
       "1        NaN  \n",
       "2        NaN  \n",
       "3        NaN  \n",
       "4        NaN  \n",
       "5        NaN  \n",
       "6        NaN  \n",
       "7        Mid  \n",
       "8        NaN  \n",
       "9        306  "
      ]
     },
     "metadata": {},
     "execution_count": 17
    }
   ],
   "metadata": {}
  },
  {
   "cell_type": "code",
   "execution_count": 18,
   "source": [
    "# Some text has been included in the dataframe. The acutal table starts at row 7 with the row names\n",
    "# Rename rows using row 7\n",
    "df67.columns = df67.iloc[7]\n",
    "df67.rename_axis(None, axis=1, inplace=True)\n"
   ],
   "outputs": [],
   "metadata": {}
  },
  {
   "cell_type": "code",
   "execution_count": 19,
   "source": [
    "# Delete rows up to row 7\n",
    "df67.drop(df67.index[range(0, 7)], axis=0, inplace=True)\n",
    "df67.head(10)"
   ],
   "outputs": [
    {
     "output_type": "execute_result",
     "data": {
      "text/html": [
       "<div>\n",
       "<style scoped>\n",
       "    .dataframe tbody tr th:only-of-type {\n",
       "        vertical-align: middle;\n",
       "    }\n",
       "\n",
       "    .dataframe tbody tr th {\n",
       "        vertical-align: top;\n",
       "    }\n",
       "\n",
       "    .dataframe thead th {\n",
       "        text-align: right;\n",
       "    }\n",
       "</style>\n",
       "<table border=\"1\" class=\"dataframe\">\n",
       "  <thead>\n",
       "    <tr style=\"text-align: right;\">\n",
       "      <th></th>\n",
       "      <th>Course Code</th>\n",
       "      <th>INSTITUTION and COURSE</th>\n",
       "      <th>EOS</th>\n",
       "      <th>Mid</th>\n",
       "    </tr>\n",
       "  </thead>\n",
       "  <tbody>\n",
       "    <tr>\n",
       "      <th>7</th>\n",
       "      <td>Course Code</td>\n",
       "      <td>INSTITUTION and COURSE</td>\n",
       "      <td>EOS</td>\n",
       "      <td>Mid</td>\n",
       "    </tr>\n",
       "    <tr>\n",
       "      <th>8</th>\n",
       "      <td>NaN</td>\n",
       "      <td>Athlone Institute of Technology</td>\n",
       "      <td>NaN</td>\n",
       "      <td>NaN</td>\n",
       "    </tr>\n",
       "    <tr>\n",
       "      <th>9</th>\n",
       "      <td>AL600</td>\n",
       "      <td>Software Design</td>\n",
       "      <td>205</td>\n",
       "      <td>306</td>\n",
       "    </tr>\n",
       "    <tr>\n",
       "      <th>10</th>\n",
       "      <td>AL601</td>\n",
       "      <td>Computer Engineering</td>\n",
       "      <td>196</td>\n",
       "      <td>272</td>\n",
       "    </tr>\n",
       "    <tr>\n",
       "      <th>11</th>\n",
       "      <td>AL602</td>\n",
       "      <td>Mechanical Engineering</td>\n",
       "      <td>258</td>\n",
       "      <td>424</td>\n",
       "    </tr>\n",
       "    <tr>\n",
       "      <th>12</th>\n",
       "      <td>AL604</td>\n",
       "      <td>Civil Engineering</td>\n",
       "      <td>252</td>\n",
       "      <td>360</td>\n",
       "    </tr>\n",
       "    <tr>\n",
       "      <th>13</th>\n",
       "      <td>AL630</td>\n",
       "      <td>Pharmacy Technician</td>\n",
       "      <td>306</td>\n",
       "      <td>366</td>\n",
       "    </tr>\n",
       "    <tr>\n",
       "      <th>14</th>\n",
       "      <td>AL631</td>\n",
       "      <td>Dental Nursing</td>\n",
       "      <td>326</td>\n",
       "      <td>379</td>\n",
       "    </tr>\n",
       "    <tr>\n",
       "      <th>15</th>\n",
       "      <td>AL632</td>\n",
       "      <td>Applied Science</td>\n",
       "      <td>243</td>\n",
       "      <td>372</td>\n",
       "    </tr>\n",
       "    <tr>\n",
       "      <th>16</th>\n",
       "      <td>AL650</td>\n",
       "      <td>Business</td>\n",
       "      <td>210</td>\n",
       "      <td>317</td>\n",
       "    </tr>\n",
       "  </tbody>\n",
       "</table>\n",
       "</div>"
      ],
      "text/plain": [
       "    Course Code           INSTITUTION and COURSE  EOS  Mid\n",
       "7   Course Code           INSTITUTION and COURSE  EOS  Mid\n",
       "8           NaN  Athlone Institute of Technology  NaN  NaN\n",
       "9         AL600                  Software Design  205  306\n",
       "10        AL601             Computer Engineering  196  272\n",
       "11        AL602           Mechanical Engineering  258  424\n",
       "12        AL604                Civil Engineering  252  360\n",
       "13        AL630              Pharmacy Technician  306  366\n",
       "14        AL631                   Dental Nursing  326  379\n",
       "15        AL632                  Applied Science  243  372\n",
       "16        AL650                         Business  210  317"
      ]
     },
     "metadata": {},
     "execution_count": 19
    }
   ],
   "metadata": {}
  },
  {
   "cell_type": "code",
   "execution_count": null,
   "source": [
    "df67[df67['Mid'].str.contains(r'[^0-9]') == True]\n",
    "df67[df67['EOS'].str.contains(r'[^0-9]') == True]"
   ],
   "outputs": [],
   "metadata": {}
  },
  {
   "cell_type": "code",
   "execution_count": 20,
   "source": [
    "# Now this datframe can be cleaned up in the same manner as level 8\n",
    "def cleanup(df):\n",
    "    \n",
    "    df = df.copy(deep=True)\n",
    "    \n",
    "    # Create a new column in the dataframe for institution name \n",
    "    # identify institution name rows as those containing null course codes\n",
    "    # and add those institution names to the new institution column\n",
    "    df['Institution'] = df[df['Course Code'].isnull()]['INSTITUTION and COURSE']\n",
    "    df.rename(columns={'INSTITUTION and COURSE':'Course Name'}, inplace=True)\n",
    "\n",
    "    # Fill empty fields in the institution column with the most recent non-na field\n",
    "    df['Institution'] = df['Institution'].fillna(method='ffill')\n",
    "\n",
    "    # Finally, remove rows containing only institution names\n",
    "    df = df[df['Course Code'].notna()]\n",
    "\n",
    "    # Create new column indicating whether the course requires a test, interview or portfolio\n",
    "    # This is indicated by a '#' in the EOS column\n",
    "    df['Test'] = df['EOS'].str.contains('#', na=False)\n",
    "\n",
    "    # Create a column indicating courses where not all applicants at EOS point score were offered a place\n",
    "    # This is indicated by a '*' in the EOS column\n",
    "    df['Not All'] = df['EOS'].str.contains('\\*', na=False)\n",
    "\n",
    "    # Create a column indicating courses where a matric is required\n",
    "    # This is indicated by the string '+matric' in the EOS column.\n",
    "    # However, the tabula table parsing has interpreted the r in matric as a cell boundary so only 'mat' \n",
    "    # remains in the EOS column and 'ic' appears in the Mid column. The 'ic' will be dealt with next \n",
    "    df['Matric'] = df['EOS'].str.contains('mat', na=False)\n",
    "\n",
    "    # Level 6 & 7 has a new code in EOS -- 'AQA' meaning All Qualified Applicants were offered a place\n",
    "    # Create a new column for AQA\n",
    "    df['AQA'] = df['EOS'].str.contains('AQA', na=False)\n",
    "\n",
    "    # Remove Non-digits from EOS and Mid columns and convert columns to numeric values, with NaNs where values are missing (errors = 'coerce')\n",
    "    # (Because NaN is a float, the whole columns must be floats)\n",
    "    df['EOS'] = pd.to_numeric(df['EOS'].str.replace(r'[^0-9]+', '', regex=True), errors='coerce')\n",
    "    df['Mid'] = pd.to_numeric(df['Mid'].str.replace(r'[^0-9]+', '', regex=True), errors='coerce')\n",
    "\n",
    "    return df\n",
    "\n",
    "df67 = cleanup(df67)        "
   ],
   "outputs": [
    {
     "output_type": "stream",
     "name": "stderr",
     "text": [
      "/tmp/ipykernel_103177/3837121507.py:39: FutureWarning: The default value of regex will change from True to False in a future version.\n",
      "  df['Mid'] = pd.to_numeric(df['Mid'].str.replace(r'[^0-9]+', '', ), errors='coerce')\n"
     ]
    }
   ],
   "metadata": {}
  },
  {
   "cell_type": "code",
   "execution_count": null,
   "source": [
    "# Repair WD177 Course Name\n",
    "df67.loc[df67['Course Code']=='WD177', 'Course Name'] += 'macy.)'"
   ],
   "outputs": [],
   "metadata": {}
  },
  {
   "cell_type": "code",
   "execution_count": null,
   "source": [],
   "outputs": [],
   "metadata": {}
  },
  {
   "cell_type": "code",
   "execution_count": null,
   "source": [],
   "outputs": [],
   "metadata": {}
  },
  {
   "cell_type": "code",
   "execution_count": null,
   "source": [
    "df67.head(10)"
   ],
   "outputs": [],
   "metadata": {}
  },
  {
   "cell_type": "markdown",
   "source": [
    "## Analysing the data"
   ],
   "metadata": {}
  },
  {
   "cell_type": "code",
   "execution_count": null,
   "source": [
    "df.describe()"
   ],
   "outputs": [],
   "metadata": {}
  },
  {
   "cell_type": "code",
   "execution_count": null,
   "source": [
    "df[['EOS', 'Mid']].hist(bins=50, figsize=(20, 5))"
   ],
   "outputs": [],
   "metadata": {}
  },
  {
   "cell_type": "markdown",
   "source": [
    "## Conclusion"
   ],
   "metadata": {}
  },
  {
   "cell_type": "markdown",
   "source": [
    "## References"
   ],
   "metadata": {}
  },
  {
   "cell_type": "markdown",
   "source": [
    "[1] https://www.independent.ie/life/family/learning/understanding-your-cao-course-guide-26505318.html"
   ],
   "metadata": {}
  }
 ],
 "metadata": {
  "interpreter": {
   "hash": "8b4af24005e35028eb041b10565b8cf079418d1c3f31abe2920c9010e87b8a26"
  },
  "kernelspec": {
   "display_name": "Python 3 (ipykernel)",
   "language": "python",
   "name": "python3"
  },
  "language_info": {
   "codemirror_mode": {
    "name": "ipython",
    "version": 3
   },
   "file_extension": ".py",
   "mimetype": "text/x-python",
   "name": "python",
   "nbconvert_exporter": "python",
   "pygments_lexer": "ipython3",
   "version": "3.9.7"
  }
 },
 "nbformat": 4,
 "nbformat_minor": 5
}